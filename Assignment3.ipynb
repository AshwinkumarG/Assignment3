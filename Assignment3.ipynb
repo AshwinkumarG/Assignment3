{
  "nbformat": 4,
  "nbformat_minor": 0,
  "metadata": {
    "colab": {
      "name": "Assignment3.ipynb",
      "provenance": [],
      "authorship_tag": "ABX9TyPXQJzzn4psUuOzaICmzjLo",
      "include_colab_link": true
    },
    "kernelspec": {
      "name": "python3",
      "display_name": "Python 3"
    }
  },
  "cells": [
    {
      "cell_type": "markdown",
      "metadata": {
        "id": "view-in-github",
        "colab_type": "text"
      },
      "source": [
        "<a href=\"https://colab.research.google.com/github/AshwinkumarG/Assignment3/blob/master/Assignment3.ipynb\" target=\"_parent\"><img src=\"https://colab.research.google.com/assets/colab-badge.svg\" alt=\"Open In Colab\"/></a>"
      ]
    },
    {
      "cell_type": "markdown",
      "metadata": {
        "id": "-TiT0WDAW0mk",
        "colab_type": "text"
      },
      "source": [
        "1)Write a python program to find the area of a circle using math module."
      ]
    },
    {
      "cell_type": "code",
      "metadata": {
        "id": "3Dsb3j4jXAjQ",
        "colab_type": "code",
        "colab": {
          "base_uri": "https://localhost:8080/",
          "height": 51
        },
        "outputId": "cf90a12c-78ef-4ece-98c9-32d7392822b6"
      },
      "source": [
        "import math\n",
        "r=float(input(\"enter the radius of circle:\"))\n",
        "a=math.pi*(r**2)\n",
        "print(\"The area of circle=\",a)"
      ],
      "execution_count": 1,
      "outputs": [
        {
          "output_type": "stream",
          "text": [
            "enter the radius of circle:4\n",
            "The area of circle= 50.26548245743669\n"
          ],
          "name": "stdout"
        }
      ]
    },
    {
      "cell_type": "markdown",
      "metadata": {
        "id": "mvQEM1FXWqsj",
        "colab_type": "text"
      },
      "source": [
        "2)Write a program to find area of regular polygon."
      ]
    },
    {
      "cell_type": "code",
      "metadata": {
        "id": "39Wz1wXcXssL",
        "colab_type": "code",
        "colab": {
          "base_uri": "https://localhost:8080/",
          "height": 68
        },
        "outputId": "73e085fa-615b-487a-a02f-464ffbf8cd97"
      },
      "source": [
        "import math\n",
        "n=int(input(\"Enter the number of sides of polygon:\"))\n",
        "l=float(input(\"Enter the length of each side of polygon:\"))\n",
        "a=(n*(1**2))/(4*math.tan(math.pi/n))\n",
        "print(\"The area of regular polygon=\",a)"
      ],
      "execution_count": 2,
      "outputs": [
        {
          "output_type": "stream",
          "text": [
            "Enter the number of sides of polygon:5\n",
            "Enter the length of each side of polygon:2\n",
            "The area of regular polygon= 1.720477400588967\n"
          ],
          "name": "stdout"
        }
      ]
    },
    {
      "cell_type": "markdown",
      "metadata": {
        "id": "0giavKBzYzRq",
        "colab_type": "text"
      },
      "source": [
        "3)Write a program to find area of a segmentof a circle formula"
      ]
    },
    {
      "cell_type": "code",
      "metadata": {
        "id": "GilcqamLWiuD",
        "colab_type": "code",
        "colab": {
          "base_uri": "https://localhost:8080/",
          "height": 68
        },
        "outputId": "e3c7f076-a159-463d-d2b6-85dd7c1d925e"
      },
      "source": [
        "import math\n",
        "t=float(input(\"enter the angle measure \"))\n",
        "r=float(input(\"enter the radius of circle \"))\n",
        "if t>=360:\n",
        "    print(\"the angle is not possible \")\n",
        "else:\n",
        "    a=(math.pi*(r**2)*(t/360))-((1/2)*(r**2)*math.sin((t*math.pi)/180))\n",
        "    print(\"the area of segment = \",a)\n"
      ],
      "execution_count": 3,
      "outputs": [
        {
          "output_type": "stream",
          "text": [
            "enter the angle measure 45\n",
            "enter the radius of circle 4\n",
            "the area of segment =  0.6263310576872065\n"
          ],
          "name": "stdout"
        }
      ]
    },
    {
      "cell_type": "markdown",
      "metadata": {
        "id": "4emLTU8bWpGZ",
        "colab_type": "text"
      },
      "source": [
        "4)Write a program to generaterandom numbers from list [100,1,2,3,30,40]"
      ]
    },
    {
      "cell_type": "code",
      "metadata": {
        "id": "ezfAjNt7ZYuN",
        "colab_type": "code",
        "colab": {
          "base_uri": "https://localhost:8080/",
          "height": 51
        },
        "outputId": "82397bd9-e6fd-4082-caef-3adcf3115a18"
      },
      "source": [
        "import random\n",
        "print(\"the random number from the list is \")\n",
        "print(random.choice([100,1,2,3,30,40]))"
      ],
      "execution_count": 5,
      "outputs": [
        {
          "output_type": "stream",
          "text": [
            "the random number from the list is \n",
            "3\n"
          ],
          "name": "stdout"
        }
      ]
    },
    {
      "cell_type": "markdown",
      "metadata": {
        "id": "12wEWnV-Zh4Z",
        "colab_type": "text"
      },
      "source": [
        "5)Write a program to generate random numbers between 1,10000 and difference between each random number is 50."
      ]
    },
    {
      "cell_type": "code",
      "metadata": {
        "id": "HQqJbnsmZwcA",
        "colab_type": "code",
        "colab": {
          "base_uri": "https://localhost:8080/",
          "height": 34
        },
        "outputId": "0364f27d-de64-4426-eb22-0cb784678be0"
      },
      "source": [
        "import random\n",
        "print(\"the random numbers between 1 to 10000:\",random.randrange(1,10000,50))\n"
      ],
      "execution_count": 7,
      "outputs": [
        {
          "output_type": "stream",
          "text": [
            "the random numbers between 1 to 10000: 4051\n"
          ],
          "name": "stdout"
        }
      ]
    },
    {
      "cell_type": "markdown",
      "metadata": {
        "id": "ZxVmphO0Z5Bv",
        "colab_type": "text"
      },
      "source": [
        "6)Write a program by using math module to find."
      ]
    },
    {
      "cell_type": "code",
      "metadata": {
        "id": "CaRvWZ0jZ__Z",
        "colab_type": "code",
        "colab": {
          "base_uri": "https://localhost:8080/",
          "height": 204
        },
        "outputId": "1b4a2c4f-908a-4cca-c601-754f25419f85"
      },
      "source": [
        "import math\n",
        "print(\"the value of sin(60) is \",math.sin(60))\n",
        "print(\"the value of cos(pi) is \",math.cos(math.pi))\n",
        "print(\"the value of tan(90) is \",math.tan(90))\n",
        "print(\"the angle of sin(0.8660254037844386) is\",math.degrees(math.asin(0.8660254037844386)))\n",
        "print(\"the value of 5^8 is \",5**8)\n",
        "print(\"the value of squareroot of 400 is \",math.sqrt(400))\n",
        "print(\"the value of 5^e is \",5**math.e)\n",
        "print(\"the value of of log(1024) base 2 is \",math.log(1024,(2)))\n",
        "print(\"the value of log(1024) base 10 is \",math.log(1024,(10)))\n",
        "print(\"the floor value of 23.56 is \",math.floor(23.56))\n",
        "print(\"the ceiling value of 23.56 is \",math.ceil(23.56))"
      ],
      "execution_count": 8,
      "outputs": [
        {
          "output_type": "stream",
          "text": [
            "the value of sin(60) is  -0.3048106211022167\n",
            "the value of cos(pi) is  -1.0\n",
            "the value of tan(90) is  -1.995200412208242\n",
            "the angle of sin(0.8660254037844386) is 59.99999999999999\n",
            "the value of 5^8 is  390625\n",
            "the value of squareroot of 400 is  20.0\n",
            "the value of 5^e is  79.43235916621322\n",
            "the value of of log(1024) base 2 is  10.0\n",
            "the value of log(1024) base 10 is  3.0102999566398116\n",
            "the floor value of 23.56 is  23\n",
            "the ceiling value of 23.56 is  24\n"
          ],
          "name": "stdout"
        }
      ]
    },
    {
      "cell_type": "markdown",
      "metadata": {
        "id": "5NcrU931aHMv",
        "colab_type": "text"
      },
      "source": [
        ""
      ]
    }
  ]
}